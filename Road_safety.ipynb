{
  "nbformat": 4,
  "nbformat_minor": 0,
  "metadata": {
    "colab": {
      "provenance": []
    },
    "kernelspec": {
      "name": "python3",
      "display_name": "Python 3"
    },
    "language_info": {
      "name": "python"
    }
  },
  "cells": [
    {
      "cell_type": "code",
      "execution_count": 1,
      "metadata": {
        "id": "vQwIIUMYLW95"
      },
      "outputs": [],
      "source": [
        "import pandas as pd"
      ]
    },
    {
      "cell_type": "code",
      "source": [
        "new_york_streets = pd.read_csv(\"/content/drive/MyDrive/new_york_streets.csv\")"
      ],
      "metadata": {
        "colab": {
          "base_uri": "https://localhost:8080/"
        },
        "id": "D9q9GxnXLaPu",
        "outputId": "161e9811-a265-4b96-dc1d-a9ec8bb6af7e"
      },
      "execution_count": 2,
      "outputs": [
        {
          "output_type": "stream",
          "name": "stderr",
          "text": [
            "<ipython-input-2-8d9d1b48a8c3>:1: DtypeWarning: Columns (15) have mixed types. Specify dtype option on import or set low_memory=False.\n",
            "  new_york_streets = pd.read_csv(\"/content/drive/MyDrive/new_york_streets.csv\")\n"
          ]
        }
      ]
    },
    {
      "cell_type": "code",
      "source": [
        "new_york_streets.columns"
      ],
      "metadata": {
        "colab": {
          "base_uri": "https://localhost:8080/"
        },
        "id": "RKPiTKhHMf2B",
        "outputId": "55032103-13a6-4ad4-ce6e-43b74a39760d"
      },
      "execution_count": 3,
      "outputs": [
        {
          "output_type": "execute_result",
          "data": {
            "text/plain": [
              "Index(['osmid', 'oneway', 'highway', 'reversed', 'length', 'geometry', 'lanes',\n",
              "       'ref', 'name', 'maxspeed', 'bridge', 'access', 'tunnel', 'width',\n",
              "       'junction', 'est_width'],\n",
              "      dtype='object')"
            ]
          },
          "metadata": {},
          "execution_count": 3
        }
      ]
    },
    {
      "cell_type": "code",
      "source": [
        "new_york_streets.shape"
      ],
      "metadata": {
        "colab": {
          "base_uri": "https://localhost:8080/"
        },
        "id": "1DkzWa6GMf6H",
        "outputId": "fda97a7a-bb22-4ee7-c887-db98ef4de906"
      },
      "execution_count": 4,
      "outputs": [
        {
          "output_type": "execute_result",
          "data": {
            "text/plain": [
              "(139990, 16)"
            ]
          },
          "metadata": {},
          "execution_count": 4
        }
      ]
    },
    {
      "cell_type": "code",
      "source": [
        "new_york_streets.isna().sum()"
      ],
      "metadata": {
        "colab": {
          "base_uri": "https://localhost:8080/"
        },
        "id": "XWTLoA_WMf8q",
        "outputId": "396b7f02-e311-4080-846a-6d0534f40014"
      },
      "execution_count": 5,
      "outputs": [
        {
          "output_type": "execute_result",
          "data": {
            "text/plain": [
              "osmid             0\n",
              "oneway            0\n",
              "highway           0\n",
              "reversed          0\n",
              "length            0\n",
              "geometry          0\n",
              "lanes        108493\n",
              "ref          136899\n",
              "name           3692\n",
              "maxspeed     113867\n",
              "bridge       137901\n",
              "access       139467\n",
              "tunnel       139763\n",
              "width        139741\n",
              "junction     139785\n",
              "est_width    139964\n",
              "dtype: int64"
            ]
          },
          "metadata": {},
          "execution_count": 5
        }
      ]
    },
    {
      "cell_type": "code",
      "source": [],
      "metadata": {
        "id": "mS6miNuNNFMr"
      },
      "execution_count": 5,
      "outputs": []
    },
    {
      "cell_type": "markdown",
      "source": [
        "**There are soo many missing values lets eliminate all the ccolumns with missing values**"
      ],
      "metadata": {
        "id": "oryD_WlaNGT7"
      }
    },
    {
      "cell_type": "code",
      "source": [
        "new_york_streets = new_york_streets.dropna(axis=1)"
      ],
      "metadata": {
        "id": "CyBpJTzRNQL4"
      },
      "execution_count": 6,
      "outputs": []
    },
    {
      "cell_type": "code",
      "source": [
        "new_york_streets.isna().sum()"
      ],
      "metadata": {
        "colab": {
          "base_uri": "https://localhost:8080/"
        },
        "id": "JE1EK9F9Ne4J",
        "outputId": "9be2b12e-e81f-4419-a0a0-a755cf14c6d6"
      },
      "execution_count": 7,
      "outputs": [
        {
          "output_type": "execute_result",
          "data": {
            "text/plain": [
              "osmid       0\n",
              "oneway      0\n",
              "highway     0\n",
              "reversed    0\n",
              "length      0\n",
              "geometry    0\n",
              "dtype: int64"
            ]
          },
          "metadata": {},
          "execution_count": 7
        }
      ]
    },
    {
      "cell_type": "code",
      "source": [
        "new_york_streets.columns"
      ],
      "metadata": {
        "colab": {
          "base_uri": "https://localhost:8080/"
        },
        "id": "XTzkEd8bNmZP",
        "outputId": "fc03dbc5-8a04-4868-982c-6b5bcff0ae66"
      },
      "execution_count": 8,
      "outputs": [
        {
          "output_type": "execute_result",
          "data": {
            "text/plain": [
              "Index(['osmid', 'oneway', 'highway', 'reversed', 'length', 'geometry'], dtype='object')"
            ]
          },
          "metadata": {},
          "execution_count": 8
        }
      ]
    },
    {
      "cell_type": "code",
      "source": [],
      "metadata": {
        "id": "CKk2zwRtPont"
      },
      "execution_count": 8,
      "outputs": []
    },
    {
      "cell_type": "code",
      "source": [
        "Road_Accident_Safety = pd.read_csv(\"/content/drive/MyDrive/Kaagle_Upload.csv\")"
      ],
      "metadata": {
        "colab": {
          "base_uri": "https://localhost:8080/"
        },
        "id": "szavJVdoPoj8",
        "outputId": "21a38313-8e5d-4c1b-87ed-d7436c69a2e5"
      },
      "execution_count": 9,
      "outputs": [
        {
          "output_type": "stream",
          "name": "stderr",
          "text": [
            "<ipython-input-9-7109b590144d>:1: DtypeWarning: Columns (0,55) have mixed types. Specify dtype option on import or set low_memory=False.\n",
            "  Road_Accident_Safety = pd.read_csv(\"/content/drive/MyDrive/Kaagle_Upload.csv\")\n"
          ]
        }
      ]
    },
    {
      "cell_type": "code",
      "source": [
        "Road_Accident_Safety.columns"
      ],
      "metadata": {
        "colab": {
          "base_uri": "https://localhost:8080/"
        },
        "id": "0Hjni3r1QL4b",
        "outputId": "f83485de-36fd-441b-c01e-6178cdec81a8"
      },
      "execution_count": 10,
      "outputs": [
        {
          "output_type": "execute_result",
          "data": {
            "text/plain": [
              "Index(['accident_index', 'vehicle_reference', 'vehicle_type',\n",
              "       'towing_and_articulation', 'vehicle_manoeuvre',\n",
              "       'vehicle_location-restricted_lane', 'junction_location',\n",
              "       'skidding_and_overturning', 'hit_object_in_carriageway',\n",
              "       'vehicle_leaving_carriageway', 'hit_object_off_carriageway',\n",
              "       '1st_point_of_impact', 'was_vehicle_left_hand_drive?',\n",
              "       'journey_purpose_of_driver', 'sex_of_driver', 'age_of_driver',\n",
              "       'age_band_of_driver', 'engine_capacity_(cc)', 'propulsion_code',\n",
              "       'age_of_vehicle', 'driver_imd_decile', 'driver_home_area_type',\n",
              "       'vehicle_imd_decile', 'NUmber_of_Casualities_unique_to_accident_index',\n",
              "       'No_of_Vehicles_involved_unique_to_accident_index',\n",
              "       'location_easting_osgr', 'location_northing_osgr', 'longitude',\n",
              "       'latitude', 'police_force', 'accident_severity', 'number_of_vehicles',\n",
              "       'number_of_casualties', 'date', 'day_of_week', 'time',\n",
              "       'local_authority_(district)', 'local_authority_(highway)',\n",
              "       '1st_road_class', '1st_road_number', 'road_type', 'speed_limit',\n",
              "       'junction_detail', 'junction_control', '2nd_road_class',\n",
              "       '2nd_road_number', 'pedestrian_crossing-human_control',\n",
              "       'pedestrian_crossing-physical_facilities', 'light_conditions',\n",
              "       'weather_conditions', 'road_surface_conditions',\n",
              "       'special_conditions_at_site', 'carriageway_hazards',\n",
              "       'urban_or_rural_area', 'did_police_officer_attend_scene_of_accident',\n",
              "       'lsoa_of_accident_location', 'casualty_reference', 'casualty_class',\n",
              "       'sex_of_casualty', 'age_of_casualty', 'age_band_of_casualty',\n",
              "       'casualty_severity', 'pedestrian_location', 'pedestrian_movement',\n",
              "       'car_passenger', 'bus_or_coach_passenger',\n",
              "       'pedestrian_road_maintenance_worker', 'casualty_type',\n",
              "       'casualty_home_area_type', 'casualty_imd_decile'],\n",
              "      dtype='object')"
            ]
          },
          "metadata": {},
          "execution_count": 10
        }
      ]
    },
    {
      "cell_type": "code",
      "source": [
        "Road_Accident_Safety.isna().sum()"
      ],
      "metadata": {
        "colab": {
          "base_uri": "https://localhost:8080/"
        },
        "id": "2ieG_66yQPuk",
        "outputId": "62edff73-a298-4e29-d57a-c40c35f3fadd"
      },
      "execution_count": 11,
      "outputs": [
        {
          "output_type": "execute_result",
          "data": {
            "text/plain": [
              "accident_index                            0\n",
              "vehicle_reference                         0\n",
              "vehicle_type                              0\n",
              "towing_and_articulation                   0\n",
              "vehicle_manoeuvre                         0\n",
              "                                      ...  \n",
              "bus_or_coach_passenger                99259\n",
              "pedestrian_road_maintenance_worker    99259\n",
              "casualty_type                         99259\n",
              "casualty_home_area_type               99259\n",
              "casualty_imd_decile                   99259\n",
              "Length: 70, dtype: int64"
            ]
          },
          "metadata": {},
          "execution_count": 11
        }
      ]
    },
    {
      "cell_type": "code",
      "source": [
        "Road_Accident_Safety.shape"
      ],
      "metadata": {
        "colab": {
          "base_uri": "https://localhost:8080/"
        },
        "id": "BFNGaoocRjgZ",
        "outputId": "0ed38b01-33e8-459a-b0ab-bb93416583d7"
      },
      "execution_count": 12,
      "outputs": [
        {
          "output_type": "execute_result",
          "data": {
            "text/plain": [
              "(285331, 70)"
            ]
          },
          "metadata": {},
          "execution_count": 12
        }
      ]
    },
    {
      "cell_type": "code",
      "source": [
        "import numpy as np\n",
        "\n",
        "# Select a random sample of rows from new_york_streets dataset\n",
        "sample_size_new_york_streets = min(500, len(new_york_streets))  # Adjust the sample size as needed\n",
        "new_york_streets_sample = new_york_streets.sample(sample_size_new_york_streets, random_state=42)\n",
        "\n",
        "# Select a random sample of rows from Road_Accident_Safety dataset\n",
        "sample_size_road_accident_safety = min(1000, len(Road_Accident_Safety))  # Adjust the sample size as needed\n",
        "Road_Accident_Safety_sample = Road_Accident_Safety.sample(sample_size_road_accident_safety, random_state=42)\n",
        "\n",
        "# Add a column with a constant value to both sampled datasets to perform a Cartesian product merge\n",
        "new_york_streets_sample['key'] = 1\n",
        "Road_Accident_Safety_sample['key'] = 1\n",
        "\n",
        "# Perform the Cartesian product merge on the sampled datasets\n",
        "combined_data = pd.merge(new_york_streets_sample, Road_Accident_Safety_sample, on='key')\n",
        "\n",
        "# Drop the 'key' column as it's no longer needed\n",
        "combined_data.drop(columns=['key'], inplace=True)\n",
        "\n"
      ],
      "metadata": {
        "colab": {
          "base_uri": "https://localhost:8080/"
        },
        "id": "ABaJyuj7RpQ7",
        "outputId": "8996c598-cf4d-40c3-edd2-873419e028dc"
      },
      "execution_count": 13,
      "outputs": [
        {
          "output_type": "stream",
          "name": "stdout",
          "text": [
            "Shape of combined dataset: (500000, 76)\n"
          ]
        }
      ]
    },
    {
      "cell_type": "code",
      "source": [
        "combined_data.columns\n"
      ],
      "metadata": {
        "colab": {
          "base_uri": "https://localhost:8080/"
        },
        "id": "2unBG-AvSgh_",
        "outputId": "80b96b0d-af79-4cba-fbf2-a5ac44bff608"
      },
      "execution_count": 15,
      "outputs": [
        {
          "output_type": "execute_result",
          "data": {
            "text/plain": [
              "Index(['osmid', 'oneway', 'highway', 'reversed', 'length', 'geometry',\n",
              "       'accident_index', 'vehicle_reference', 'vehicle_type',\n",
              "       'towing_and_articulation', 'vehicle_manoeuvre',\n",
              "       'vehicle_location-restricted_lane', 'junction_location',\n",
              "       'skidding_and_overturning', 'hit_object_in_carriageway',\n",
              "       'vehicle_leaving_carriageway', 'hit_object_off_carriageway',\n",
              "       '1st_point_of_impact', 'was_vehicle_left_hand_drive?',\n",
              "       'journey_purpose_of_driver', 'sex_of_driver', 'age_of_driver',\n",
              "       'age_band_of_driver', 'engine_capacity_(cc)', 'propulsion_code',\n",
              "       'age_of_vehicle', 'driver_imd_decile', 'driver_home_area_type',\n",
              "       'vehicle_imd_decile', 'NUmber_of_Casualities_unique_to_accident_index',\n",
              "       'No_of_Vehicles_involved_unique_to_accident_index',\n",
              "       'location_easting_osgr', 'location_northing_osgr', 'longitude',\n",
              "       'latitude', 'police_force', 'accident_severity', 'number_of_vehicles',\n",
              "       'number_of_casualties', 'date', 'day_of_week', 'time',\n",
              "       'local_authority_(district)', 'local_authority_(highway)',\n",
              "       '1st_road_class', '1st_road_number', 'road_type', 'speed_limit',\n",
              "       'junction_detail', 'junction_control', '2nd_road_class',\n",
              "       '2nd_road_number', 'pedestrian_crossing-human_control',\n",
              "       'pedestrian_crossing-physical_facilities', 'light_conditions',\n",
              "       'weather_conditions', 'road_surface_conditions',\n",
              "       'special_conditions_at_site', 'carriageway_hazards',\n",
              "       'urban_or_rural_area', 'did_police_officer_attend_scene_of_accident',\n",
              "       'lsoa_of_accident_location', 'casualty_reference', 'casualty_class',\n",
              "       'sex_of_casualty', 'age_of_casualty', 'age_band_of_casualty',\n",
              "       'casualty_severity', 'pedestrian_location', 'pedestrian_movement',\n",
              "       'car_passenger', 'bus_or_coach_passenger',\n",
              "       'pedestrian_road_maintenance_worker', 'casualty_type',\n",
              "       'casualty_home_area_type', 'casualty_imd_decile'],\n",
              "      dtype='object')"
            ]
          },
          "metadata": {},
          "execution_count": 15
        }
      ]
    },
    {
      "cell_type": "code",
      "source": [
        "import pandas as pd\n",
        "from google.colab import files\n",
        "\n",
        "# Save DataFrame to CSV file\n",
        "combined_data.to_csv('combined_data.csv', index=False)\n",
        "\n",
        "# Download the CSV file\n",
        "files.download('combined_data.csv')"
      ],
      "metadata": {
        "colab": {
          "base_uri": "https://localhost:8080/",
          "height": 17
        },
        "id": "W91xwXYkUVWx",
        "outputId": "126d0124-5881-4ecf-cbb5-616fc228d14a"
      },
      "execution_count": 16,
      "outputs": [
        {
          "output_type": "display_data",
          "data": {
            "text/plain": [
              "<IPython.core.display.Javascript object>"
            ],
            "application/javascript": [
              "\n",
              "    async function download(id, filename, size) {\n",
              "      if (!google.colab.kernel.accessAllowed) {\n",
              "        return;\n",
              "      }\n",
              "      const div = document.createElement('div');\n",
              "      const label = document.createElement('label');\n",
              "      label.textContent = `Downloading \"${filename}\": `;\n",
              "      div.appendChild(label);\n",
              "      const progress = document.createElement('progress');\n",
              "      progress.max = size;\n",
              "      div.appendChild(progress);\n",
              "      document.body.appendChild(div);\n",
              "\n",
              "      const buffers = [];\n",
              "      let downloaded = 0;\n",
              "\n",
              "      const channel = await google.colab.kernel.comms.open(id);\n",
              "      // Send a message to notify the kernel that we're ready.\n",
              "      channel.send({})\n",
              "\n",
              "      for await (const message of channel.messages) {\n",
              "        // Send a message to notify the kernel that we're ready.\n",
              "        channel.send({})\n",
              "        if (message.buffers) {\n",
              "          for (const buffer of message.buffers) {\n",
              "            buffers.push(buffer);\n",
              "            downloaded += buffer.byteLength;\n",
              "            progress.value = downloaded;\n",
              "          }\n",
              "        }\n",
              "      }\n",
              "      const blob = new Blob(buffers, {type: 'application/binary'});\n",
              "      const a = document.createElement('a');\n",
              "      a.href = window.URL.createObjectURL(blob);\n",
              "      a.download = filename;\n",
              "      div.appendChild(a);\n",
              "      a.click();\n",
              "      div.remove();\n",
              "    }\n",
              "  "
            ]
          },
          "metadata": {}
        },
        {
          "output_type": "display_data",
          "data": {
            "text/plain": [
              "<IPython.core.display.Javascript object>"
            ],
            "application/javascript": [
              "download(\"download_a9b080a2-24da-435f-9b12-fb1a7bf32b7e\", \"combined_data.csv\", 201037993)"
            ]
          },
          "metadata": {}
        }
      ]
    }
  ]
}